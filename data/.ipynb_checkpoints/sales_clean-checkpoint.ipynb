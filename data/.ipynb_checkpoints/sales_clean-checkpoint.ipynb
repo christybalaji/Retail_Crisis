{
 "cells": [
  {
   "cell_type": "code",
   "execution_count": 1,
   "metadata": {},
   "outputs": [],
   "source": [
    "import pandas as pd"
   ]
  },
  {
   "cell_type": "code",
   "execution_count": 2,
   "metadata": {},
   "outputs": [],
   "source": [
    "shopping_file = \"raw_data/Clothing.csv\"\n",
    "furniture_file = \"raw_data/Furniture.csv\"\n",
    "electronic_file = \"raw_data/Electronics_Appliance.csv\"\n",
    "grocery_file = \"raw_data/Grocery.csv\"\n"
   ]
  },
  {
   "cell_type": "code",
   "execution_count": 3,
   "metadata": {},
   "outputs": [],
   "source": [
    "shopping_df = pd.read_csv(shopping_file)\n",
    "furniture_df = pd.read_csv(furniture_file)\n",
    "electronic_df = pd.read_csv(electronic_file)\n",
    "grocery_df = pd.read_csv(grocery_file)"
   ]
  },
  {
   "cell_type": "code",
   "execution_count": 4,
   "metadata": {},
   "outputs": [],
   "source": [
    "shopping_df[['Period','Year']] = shopping_df['Period'].str.split('-',expand=True)\n",
    "furniture_df[['Period','Year']] = furniture_df['Period'].str.split('-',expand=True)\n",
    "electronic_df[['Period','Year']] = electronic_df['Period'].str.split('-',expand=True)\n",
    "grocery_df[['Period','Year']] = grocery_df['Period'].str.split('-',expand=True)\n"
   ]
  },
  {
   "cell_type": "code",
   "execution_count": 5,
   "metadata": {},
   "outputs": [],
   "source": [
    "shopping_df = shopping_df.rename(columns={\"Period\":\"Month\",\n",
    "                            \"Value\":\"Sales\"})\n",
    "shopping_df = shopping_df[['Year','Month','Sales']]\n",
    "\n",
    "furniture_df = furniture_df.rename(columns={\"Period\":\"Month\",\n",
    "                            \"Value\":\"Sales\"})\n",
    "furniture_df = furniture_df[['Year','Month','Sales']]\n",
    "\n",
    "electronic_df = electronic_df.rename(columns={\"Period\":\"Month\",\n",
    "                            \"Value\":\"Sales\"})\n",
    "electronic_df = electronic_df[['Year','Month','Sales']]\n",
    "\n",
    "grocery_df = grocery_df.rename(columns={\"Period\":\"Month\",\n",
    "                            \"Value\":\"Sales\"})\n",
    "grocery_df = grocery_df[['Year','Month','Sales']]"
   ]
  },
  {
   "cell_type": "code",
   "execution_count": 6,
   "metadata": {},
   "outputs": [],
   "source": [
    "yearly_sales = shopping_df.groupby(['Year'])\n",
    "shopping_yearly = yearly_sales.sum()\n",
    "\n",
    "yearly_sales = furniture_df.groupby(['Year'])\n",
    "furniture_yearly = yearly_sales.sum()\n",
    "\n",
    "yearly_sales = electronic_df.groupby(['Year'])\n",
    "electronic_yearly = yearly_sales.sum()\n",
    "\n",
    "yearly_sales = grocery_df.groupby(['Year'])\n",
    "grocery_yearly = yearly_sales.sum()\n",
    "\n"
   ]
  },
  {
   "cell_type": "code",
   "execution_count": 7,
   "metadata": {},
   "outputs": [],
   "source": [
    "all_yearly = pd.merge(shopping_yearly,furniture_yearly, on=\"Year\",suffixes=['_shopping','_furniture'])"
   ]
  },
  {
   "cell_type": "code",
   "execution_count": 8,
   "metadata": {},
   "outputs": [],
   "source": [
    "other_yearly = pd.merge(electronic_yearly,grocery_yearly, on=\"Year\",suffixes=['_electronic','_grocery'])"
   ]
  },
  {
   "cell_type": "code",
   "execution_count": 9,
   "metadata": {},
   "outputs": [],
   "source": [
    "all_yearly = pd.merge(all_yearly,other_yearly, on=\"Year\")"
   ]
  },
  {
   "cell_type": "code",
   "execution_count": 11,
   "metadata": {},
   "outputs": [],
   "source": [
    "yearlysales_df = all_yearly.rename(columns = {\"Sales_shopping\":\"shopping_sales\",\n",
    "                                              \"Sales_furniture\":\"furniture_sales\",\n",
    "                                              \"Sales_electronic\":\"electronic_sales\",\n",
    "                                              \"Sales_grocery\":\"grocery_sales\"})"
   ]
  },
  {
   "cell_type": "code",
   "execution_count": 12,
   "metadata": {},
   "outputs": [
    {
     "data": {
      "text/html": [
       "<div>\n",
       "<style scoped>\n",
       "    .dataframe tbody tr th:only-of-type {\n",
       "        vertical-align: middle;\n",
       "    }\n",
       "\n",
       "    .dataframe tbody tr th {\n",
       "        vertical-align: top;\n",
       "    }\n",
       "\n",
       "    .dataframe thead th {\n",
       "        text-align: right;\n",
       "    }\n",
       "</style>\n",
       "<table border=\"1\" class=\"dataframe\">\n",
       "  <thead>\n",
       "    <tr style=\"text-align: right;\">\n",
       "      <th></th>\n",
       "      <th>shopping_sales</th>\n",
       "      <th>furniture_sales</th>\n",
       "      <th>electronic_sales</th>\n",
       "      <th>grocery_sales</th>\n",
       "    </tr>\n",
       "    <tr>\n",
       "      <th>Year</th>\n",
       "      <th></th>\n",
       "      <th></th>\n",
       "      <th></th>\n",
       "      <th></th>\n",
       "    </tr>\n",
       "  </thead>\n",
       "  <tbody>\n",
       "    <tr>\n",
       "      <th>1992</th>\n",
       "      <td>119449.0</td>\n",
       "      <td>52197.0</td>\n",
       "      <td>48404.0</td>\n",
       "      <td>336540.0</td>\n",
       "    </tr>\n",
       "    <tr>\n",
       "      <th>1993</th>\n",
       "      <td>124615.0</td>\n",
       "      <td>55396.0</td>\n",
       "      <td>54916.0</td>\n",
       "      <td>341481.0</td>\n",
       "    </tr>\n",
       "    <tr>\n",
       "      <th>1994</th>\n",
       "      <td>128580.0</td>\n",
       "      <td>60262.0</td>\n",
       "      <td>63897.0</td>\n",
       "      <td>350416.0</td>\n",
       "    </tr>\n",
       "    <tr>\n",
       "      <th>1995</th>\n",
       "      <td>131201.0</td>\n",
       "      <td>63509.0</td>\n",
       "      <td>72278.0</td>\n",
       "      <td>356763.0</td>\n",
       "    </tr>\n",
       "    <tr>\n",
       "      <th>1996</th>\n",
       "      <td>136653.0</td>\n",
       "      <td>67479.0</td>\n",
       "      <td>76040.0</td>\n",
       "      <td>364999.0</td>\n",
       "    </tr>\n",
       "  </tbody>\n",
       "</table>\n",
       "</div>"
      ],
      "text/plain": [
       "      shopping_sales  furniture_sales  electronic_sales  grocery_sales\n",
       "Year                                                                  \n",
       "1992        119449.0          52197.0           48404.0       336540.0\n",
       "1993        124615.0          55396.0           54916.0       341481.0\n",
       "1994        128580.0          60262.0           63897.0       350416.0\n",
       "1995        131201.0          63509.0           72278.0       356763.0\n",
       "1996        136653.0          67479.0           76040.0       364999.0"
      ]
     },
     "execution_count": 12,
     "metadata": {},
     "output_type": "execute_result"
    }
   ],
   "source": [
    "yearlysales_df.head()"
   ]
  },
  {
   "cell_type": "code",
   "execution_count": null,
   "metadata": {},
   "outputs": [],
   "source": []
  },
  {
   "cell_type": "code",
   "execution_count": null,
   "metadata": {},
   "outputs": [],
   "source": []
  }
 ],
 "metadata": {
  "kernelspec": {
   "display_name": "Python 3",
   "language": "python",
   "name": "python3"
  },
  "language_info": {
   "codemirror_mode": {
    "name": "ipython",
    "version": 3
   },
   "file_extension": ".py",
   "mimetype": "text/x-python",
   "name": "python",
   "nbconvert_exporter": "python",
   "pygments_lexer": "ipython3",
   "version": "3.7.0"
  }
 },
 "nbformat": 4,
 "nbformat_minor": 2
}
