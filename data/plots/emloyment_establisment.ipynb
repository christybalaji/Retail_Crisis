{
 "cells": [
  {
   "cell_type": "code",
   "execution_count": 2,
   "metadata": {},
   "outputs": [],
   "source": [
    "import pandas as pd\n",
    "import numpy as np\n",
    "import matplotlib.pyplot as plt"
   ]
  },
  {
   "cell_type": "code",
   "execution_count": 3,
   "metadata": {},
   "outputs": [
    {
     "data": {
      "text/html": [
       "<div>\n",
       "<style scoped>\n",
       "    .dataframe tbody tr th:only-of-type {\n",
       "        vertical-align: middle;\n",
       "    }\n",
       "\n",
       "    .dataframe tbody tr th {\n",
       "        vertical-align: top;\n",
       "    }\n",
       "\n",
       "    .dataframe thead th {\n",
       "        text-align: right;\n",
       "    }\n",
       "</style>\n",
       "<table border=\"1\" class=\"dataframe\">\n",
       "  <thead>\n",
       "    <tr style=\"text-align: right;\">\n",
       "      <th>Description</th>\n",
       "      <th>Furniture and Home Furnishings Stores</th>\n",
       "      <th>Electronics and Appliance Stores</th>\n",
       "      <th>Grocery Stores</th>\n",
       "      <th>Clothing and Clothing Accessories Stores</th>\n",
       "    </tr>\n",
       "  </thead>\n",
       "  <tbody>\n",
       "    <tr>\n",
       "      <th>Employment_2000</th>\n",
       "      <td>549,184</td>\n",
       "      <td>407,321</td>\n",
       "      <td>2,716,868</td>\n",
       "      <td>1,368,665</td>\n",
       "    </tr>\n",
       "    <tr>\n",
       "      <th>Establishments_2000</th>\n",
       "      <td>64,842</td>\n",
       "      <td>45,592</td>\n",
       "      <td>98,275</td>\n",
       "      <td>150,946</td>\n",
       "    </tr>\n",
       "    <tr>\n",
       "      <th>Employment_2007</th>\n",
       "      <td>596,538</td>\n",
       "      <td>500,780</td>\n",
       "      <td>2,564,533</td>\n",
       "      <td>1,648,157</td>\n",
       "    </tr>\n",
       "    <tr>\n",
       "      <th>Establishments_2007</th>\n",
       "      <td>65,485</td>\n",
       "      <td>52,470</td>\n",
       "      <td>92,315</td>\n",
       "      <td>155,371</td>\n",
       "    </tr>\n",
       "    <tr>\n",
       "      <th>Employment_2015</th>\n",
       "      <td>445,240</td>\n",
       "      <td>407,409</td>\n",
       "      <td>2,800,048</td>\n",
       "      <td>1,711,022</td>\n",
       "    </tr>\n",
       "    <tr>\n",
       "      <th>Establishments_2015</th>\n",
       "      <td>50,336</td>\n",
       "      <td>46,731</td>\n",
       "      <td>95,514</td>\n",
       "      <td>146,694</td>\n",
       "    </tr>\n",
       "  </tbody>\n",
       "</table>\n",
       "</div>"
      ],
      "text/plain": [
       "Description         Furniture and Home Furnishings Stores  \\\n",
       "Employment_2000                                   549,184   \n",
       "Establishments_2000                                64,842   \n",
       "Employment_2007                                   596,538   \n",
       "Establishments_2007                                65,485   \n",
       "Employment_2015                                   445,240   \n",
       "Establishments_2015                                50,336   \n",
       "\n",
       "Description         Electronics and Appliance Stores Grocery Stores  \\\n",
       "Employment_2000                              407,321      2,716,868   \n",
       "Establishments_2000                           45,592         98,275   \n",
       "Employment_2007                              500,780      2,564,533   \n",
       "Establishments_2007                           52,470         92,315   \n",
       "Employment_2015                              407,409      2,800,048   \n",
       "Establishments_2015                           46,731         95,514   \n",
       "\n",
       "Description         Clothing and Clothing Accessories Stores  \n",
       "Employment_2000                                    1,368,665  \n",
       "Establishments_2000                                  150,946  \n",
       "Employment_2007                                    1,648,157  \n",
       "Establishments_2007                                  155,371  \n",
       "Employment_2015                                    1,711,022  \n",
       "Establishments_2015                                  146,694  "
      ]
     },
     "execution_count": 3,
     "metadata": {},
     "output_type": "execute_result"
    }
   ],
   "source": [
    "base_file = \"../merged_data/merged_all_data.csv\"\n",
    "base_df = pd.read_csv(base_file)\n",
    "trans_df = base_df.transpose()\n",
    "trans_df.columns = trans_df.iloc[1]\n",
    "trans_df = trans_df.drop(trans_df.index[1])\n",
    "trans_df = trans_df.drop(trans_df.index[0])\n",
    "\n",
    "trans_df = trans_df.drop([\"Employment_2001\",\"Establishments_2001\",\"Employment_2002\",\"Establishments_2002\",\n",
    "                         \"Employment_2003\",\"Establishments_2003\",\"Employment_2004\",\"Establishments_2004\",\n",
    "                         \"Employment_2005\",\"Establishments_2005\",\"Employment_2006\",\"Establishments_2006\",\n",
    "                         \"Employment_2008\",\"Establishments_2008\",\"Employment_2009\",\"Establishments_2009\",\n",
    "                         \"Employment_2010\",\"Establishments_2010\",\"Employment_2011\",\"Establishments_2011\",\n",
    "                         \"Employment_2012\",\"Establishments_2012\",\"Employment_2013\",\"Establishments_2013\",\n",
    "                         \"Employment_2014\",\"Establishments_2014\"])\n",
    "trans_df"
   ]
  },
  {
   "cell_type": "code",
   "execution_count": 4,
   "metadata": {},
   "outputs": [
    {
     "data": {
      "text/html": [
       "<div>\n",
       "<style scoped>\n",
       "    .dataframe tbody tr th:only-of-type {\n",
       "        vertical-align: middle;\n",
       "    }\n",
       "\n",
       "    .dataframe tbody tr th {\n",
       "        vertical-align: top;\n",
       "    }\n",
       "\n",
       "    .dataframe thead th {\n",
       "        text-align: right;\n",
       "    }\n",
       "</style>\n",
       "<table border=\"1\" class=\"dataframe\">\n",
       "  <thead>\n",
       "    <tr style=\"text-align: right;\">\n",
       "      <th>Description</th>\n",
       "      <th>furniture</th>\n",
       "      <th>electronics</th>\n",
       "      <th>grocery</th>\n",
       "      <th>clothing</th>\n",
       "    </tr>\n",
       "  </thead>\n",
       "  <tbody>\n",
       "    <tr>\n",
       "      <th>Employment_2000</th>\n",
       "      <td>549,184</td>\n",
       "      <td>407,321</td>\n",
       "      <td>2,716,868</td>\n",
       "      <td>1,368,665</td>\n",
       "    </tr>\n",
       "    <tr>\n",
       "      <th>Establishments_2000</th>\n",
       "      <td>64,842</td>\n",
       "      <td>45,592</td>\n",
       "      <td>98,275</td>\n",
       "      <td>150,946</td>\n",
       "    </tr>\n",
       "    <tr>\n",
       "      <th>Employment_2007</th>\n",
       "      <td>596,538</td>\n",
       "      <td>500,780</td>\n",
       "      <td>2,564,533</td>\n",
       "      <td>1,648,157</td>\n",
       "    </tr>\n",
       "    <tr>\n",
       "      <th>Establishments_2007</th>\n",
       "      <td>65,485</td>\n",
       "      <td>52,470</td>\n",
       "      <td>92,315</td>\n",
       "      <td>155,371</td>\n",
       "    </tr>\n",
       "    <tr>\n",
       "      <th>Employment_2015</th>\n",
       "      <td>445,240</td>\n",
       "      <td>407,409</td>\n",
       "      <td>2,800,048</td>\n",
       "      <td>1,711,022</td>\n",
       "    </tr>\n",
       "    <tr>\n",
       "      <th>Establishments_2015</th>\n",
       "      <td>50,336</td>\n",
       "      <td>46,731</td>\n",
       "      <td>95,514</td>\n",
       "      <td>146,694</td>\n",
       "    </tr>\n",
       "  </tbody>\n",
       "</table>\n",
       "</div>"
      ],
      "text/plain": [
       "Description         furniture electronics    grocery   clothing\n",
       "Employment_2000       549,184     407,321  2,716,868  1,368,665\n",
       "Establishments_2000    64,842      45,592     98,275    150,946\n",
       "Employment_2007       596,538     500,780  2,564,533  1,648,157\n",
       "Establishments_2007    65,485      52,470     92,315    155,371\n",
       "Employment_2015       445,240     407,409  2,800,048  1,711,022\n",
       "Establishments_2015    50,336      46,731     95,514    146,694"
      ]
     },
     "execution_count": 4,
     "metadata": {},
     "output_type": "execute_result"
    }
   ],
   "source": [
    "trans_df=trans_df.rename(columns= {'Furniture and Home Furnishings Stores': 'furniture',\n",
    "                                     'Electronics and Appliance Stores':'electronics',\n",
    "                                     'Grocery Stores':'grocery','Clothing and Clothing Accessories Stores':'clothing'}) \n",
    "\n",
    "trans_df"
   ]
  },
  {
   "cell_type": "code",
   "execution_count": 5,
   "metadata": {
    "scrolled": true
   },
   "outputs": [
    {
     "data": {
      "text/html": [
       "<div>\n",
       "<style scoped>\n",
       "    .dataframe tbody tr th:only-of-type {\n",
       "        vertical-align: middle;\n",
       "    }\n",
       "\n",
       "    .dataframe tbody tr th {\n",
       "        vertical-align: top;\n",
       "    }\n",
       "\n",
       "    .dataframe thead th {\n",
       "        text-align: right;\n",
       "    }\n",
       "</style>\n",
       "<table border=\"1\" class=\"dataframe\">\n",
       "  <thead>\n",
       "    <tr style=\"text-align: right;\">\n",
       "      <th>Description</th>\n",
       "      <th>furniture</th>\n",
       "      <th>electronics</th>\n",
       "      <th>grocery</th>\n",
       "      <th>clothing</th>\n",
       "    </tr>\n",
       "  </thead>\n",
       "  <tbody>\n",
       "    <tr>\n",
       "      <th>Employment_2000</th>\n",
       "      <td>549184</td>\n",
       "      <td>407321</td>\n",
       "      <td>2716868</td>\n",
       "      <td>1368665</td>\n",
       "    </tr>\n",
       "    <tr>\n",
       "      <th>Establishments_2000</th>\n",
       "      <td>64842</td>\n",
       "      <td>45592</td>\n",
       "      <td>98275</td>\n",
       "      <td>150946</td>\n",
       "    </tr>\n",
       "    <tr>\n",
       "      <th>Employment_2007</th>\n",
       "      <td>596538</td>\n",
       "      <td>500780</td>\n",
       "      <td>2564533</td>\n",
       "      <td>1648157</td>\n",
       "    </tr>\n",
       "    <tr>\n",
       "      <th>Establishments_2007</th>\n",
       "      <td>65485</td>\n",
       "      <td>52470</td>\n",
       "      <td>92315</td>\n",
       "      <td>155371</td>\n",
       "    </tr>\n",
       "    <tr>\n",
       "      <th>Employment_2015</th>\n",
       "      <td>445240</td>\n",
       "      <td>407409</td>\n",
       "      <td>2800048</td>\n",
       "      <td>1711022</td>\n",
       "    </tr>\n",
       "    <tr>\n",
       "      <th>Establishments_2015</th>\n",
       "      <td>50336</td>\n",
       "      <td>46731</td>\n",
       "      <td>95514</td>\n",
       "      <td>146694</td>\n",
       "    </tr>\n",
       "  </tbody>\n",
       "</table>\n",
       "</div>"
      ],
      "text/plain": [
       "Description          furniture  electronics  grocery  clothing\n",
       "Employment_2000         549184       407321  2716868   1368665\n",
       "Establishments_2000      64842        45592    98275    150946\n",
       "Employment_2007         596538       500780  2564533   1648157\n",
       "Establishments_2007      65485        52470    92315    155371\n",
       "Employment_2015         445240       407409  2800048   1711022\n",
       "Establishments_2015      50336        46731    95514    146694"
      ]
     },
     "execution_count": 5,
     "metadata": {},
     "output_type": "execute_result"
    }
   ],
   "source": [
    "trans_df.grocery = pd.to_numeric(trans_df.grocery.str.replace(',',''), errors = 'coerce')\n",
    "trans_df.electronics = pd.to_numeric(trans_df.electronics.str.replace(',',''), errors = 'coerce')\n",
    "trans_df.furniture = pd.to_numeric(trans_df.furniture.str.replace(',',''), errors = 'coerce')\n",
    "trans_df.clothing = pd.to_numeric(trans_df.clothing.str.replace(',',''), errors = 'coerce')\n",
    "trans_df"
   ]
  },
  {
   "cell_type": "code",
   "execution_count": 50,
   "metadata": {},
   "outputs": [
    {
     "data": {
      "image/png": "[encoded data removed]",
      "text/plain": [
       "<Figure size 432x288 with 1 Axes>"
      ]
     },
     "metadata": {
      "needs_background": "light"
     },
     "output_type": "display_data"
    },
    {
     "data": {
      "text/plain": [
       "<Figure size 432x288 with 0 Axes>"
      ]
     },
     "metadata": {},
     "output_type": "display_data"
    }
   ],
   "source": [
    "labels = ['2000','2007',\n",
    "          '2015']\n",
    "x = np.arange(len(labels))\n",
    "\n",
    "legend=['Employment','Establishments']\n",
    "emp_f = [trans_df.furniture[0]/1000,trans_df.furniture[2]/1000,trans_df.furniture[4]/1000]\n",
    "est_f = [trans_df.furniture[1]/1000,trans_df.furniture[3]/1000,trans_df.furniture[5]/1000]\n",
    "bar_width = 0.35\n",
    "plt.bar(x,emp_f,bar_width,color='cornflowerblue',edgecolor='k')\n",
    "plt.bar(x+bar_width,est_f,color='green',edgecolor='k')\n",
    "plt.xticks(x,labels)\n",
    "plt.xlabel(\"Furniture\",fontsize=16)\n",
    "plt.ylabel(\"# Employment/Establishment\\n(Thousand)\")\n",
    "plt.title(\"Employment and Establishment\",fontsize=18)\n",
    "plt.legend(legend,loc='best')\n",
    "\n",
    "plt.show()\n",
    "plt.savefig(\"../plots/complete_plots/furnitureBar1.png\",bbox_inches='tight')\n"
   ]
  },
  {
   "cell_type": "code",
   "execution_count": 53,
   "metadata": {},
   "outputs": [
    {
     "data": {
      "image/png": "[encoded data removed]",
      "text/plain": [
       "<Figure size 432x288 with 1 Axes>"
      ]
     },
     "metadata": {
      "needs_background": "light"
     },
     "output_type": "display_data"
    },
    {
     "data": {
      "text/plain": [
       "<Figure size 432x288 with 0 Axes>"
      ]
     },
     "metadata": {},
     "output_type": "display_data"
    }
   ],
   "source": [
    "labels = ['2000','2007',\n",
    "          '2015']\n",
    "x = np.arange(len(labels))\n",
    "\n",
    "legend=['Employment','Establishments']\n",
    "emp_f = [trans_df.electronics[0]/1000,trans_df.electronics[2]/1000,trans_df.electronics[4]/1000]\n",
    "est_f = [trans_df.electronics[1]/1000,trans_df.electronics[3]/1000,trans_df.electronics[5]/1000]\n",
    "bar_width = 0.35\n",
    "plt.bar(x,emp_f,bar_width,color='cornflowerblue',edgecolor='k')\n",
    "plt.bar(x+bar_width,est_f,color='green',edgecolor='k')\n",
    "plt.xticks(x,labels)\n",
    "plt.xlabel(\"Electronics\",fontsize=16)\n",
    "plt.ylabel(\"# Employment/Establishment\\n(Thousand)\")\n",
    "plt.title(\"Employment and Establishment\",fontsize=18)\n",
    "plt.legend(legend,loc='best')\n",
    "\n",
    "plt.show()\n",
    "plt.savefig(\"../plots/complete_plots/electronicsBar1.png\",bbox_inches='tight')"
   ]
  },
  {
   "cell_type": "code",
   "execution_count": 54,
   "metadata": {},
   "outputs": [
    {
     "data": {
      "image/png": "[encoded data removed]",
      "text/plain": [
       "<Figure size 432x288 with 1 Axes>"
      ]
     },
     "metadata": {
      "needs_background": "light"
     },
     "output_type": "display_data"
    },
    {
     "data": {
      "text/plain": [
       "<Figure size 432x288 with 0 Axes>"
      ]
     },
     "metadata": {},
     "output_type": "display_data"
    }
   ],
   "source": [
    "labels = ['2000','2007',\n",
    "          '2015']\n",
    "x = np.arange(len(labels))\n",
    "\n",
    "legend=['Employment','Establishments']\n",
    "emp_f = [trans_df.grocery[0]/1000,trans_df.grocery[2]/1000,trans_df.grocery[4]/1000]\n",
    "est_f = [trans_df.grocery[1]/1000,trans_df.grocery[3]/1000,trans_df.grocery[5]/1000]\n",
    "bar_width = 0.35\n",
    "plt.bar(x,emp_f,bar_width,color='cornflowerblue',edgecolor='k')\n",
    "plt.bar(x+bar_width,est_f,color='green',edgecolor='k')\n",
    "plt.xticks(x,labels)\n",
    "plt.xlabel(\"Grocery\",fontsize=16)\n",
    "plt.ylabel(\"# Employment/Establishment\\n(Thousand)\")\n",
    "plt.title(\"Employment and Establishment\",fontsize=18)\n",
    "plt.legend(legend,loc='best')\n",
    "\n",
    "plt.show()\n",
    "plt.savefig(\"../plots/complete_plots/groceryBar1.png\",bbox_inches='tight')"
   ]
  },
  {
   "cell_type": "code",
   "execution_count": 55,
   "metadata": {},
   "outputs": [
    {
     "data": {
      "image/png": "[encoded data removed]",
      "text/plain": [
       "<Figure size 432x288 with 1 Axes>"
      ]
     },
     "metadata": {
      "needs_background": "light"
     },
     "output_type": "display_data"
    },
    {
     "data": {
      "text/plain": [
       "<Figure size 432x288 with 0 Axes>"
      ]
     },
     "metadata": {},
     "output_type": "display_data"
    }
   ],
   "source": [
    "labels = ['2000','2007',\n",
    "          '2015']\n",
    "x = np.arange(len(labels))\n",
    "\n",
    "legend=['Employment','Establishments']\n",
    "emp_f = [trans_df.clothing[0]/1000,trans_df.clothing[2]/1000,trans_df.clothing[4]/1000]\n",
    "est_f = [trans_df.clothing[1]/1000,trans_df.clothing[3]/1000,trans_df.clothing[5]/1000]\n",
    "bar_width = 0.35\n",
    "plt.bar(x,emp_f,bar_width,color='cornflowerblue',edgecolor='k')\n",
    "plt.bar(x+bar_width,est_f,color='green',edgecolor='k')\n",
    "plt.xticks(x,labels)\n",
    "plt.xlabel(\"Clothing\",fontsize=16)\n",
    "plt.ylabel(\"# Employment/Establishment\\n(Thousand)\")\n",
    "plt.title(\"Employment and Establishment\",fontsize=18)\n",
    "plt.legend(legend,loc='best')\n",
    "\n",
    "plt.show()\n",
    "plt.savefig(\"../plots/complete_plots/clothingBar1.png\",bbox_inches='tight')"
   ]
  },
  {
   "cell_type": "code",
   "execution_count": null,
   "metadata": {},
   "outputs": [],
   "source": []
  }
 ],
 "metadata": {
  "kernelspec": {
   "display_name": "pythonData",
   "language": "python",
   "name": "pythondata"
  },
  "language_info": {
   "codemirror_mode": {
    "name": "ipython",
    "version": 3
   },
   "file_extension": ".py",
   "mimetype": "text/x-python",
   "name": "python",
   "nbconvert_exporter": "python",
   "pygments_lexer": "ipython3",
   "version": "3.7.1"
  }
 },
 "nbformat": 4,
 "nbformat_minor": 2
}
