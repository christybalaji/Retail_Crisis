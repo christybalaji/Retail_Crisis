{
 "cells": [
  {
   "cell_type": "code",
   "execution_count": 11,
   "metadata": {},
   "outputs": [],
   "source": [
    "import pandas as pd\n",
    "import numpy as np\n",
    "import matplotlib.pyplot as plt"
   ]
  },
  {
   "cell_type": "code",
   "execution_count": 12,
   "metadata": {},
   "outputs": [],
   "source": [
    "sales_file = \"../clean_data/output/clean_sales_data.csv\"\n"
   ]
  },
  {
   "cell_type": "code",
   "execution_count": 13,
   "metadata": {},
   "outputs": [],
   "source": [
    "sales_df = pd.read_csv(sales_file)\n"
   ]
  },
  {
   "cell_type": "code",
   "execution_count": 15,
   "metadata": {},
   "outputs": [],
   "source": [
    "x_axis = sales_df.Year"
   ]
  },
  {
   "cell_type": "code",
   "execution_count": 16,
   "metadata": {},
   "outputs": [],
   "source": [
    "shopping = sales_df.shopping_sales\n",
    "furniture = sales_df.furniture_sales\n",
    "electronic = sales_df.electronic_sales\n",
    "grocery = sales_df.grocery_sales"
   ]
  },
  {
   "cell_type": "code",
   "execution_count": 26,
   "metadata": {},
   "outputs": [
    {
     "data": {
      "text/plain": [
       "<matplotlib.legend.Legend at 0x1e48661beb8>"
      ]
     },
     "execution_count": 26,
     "metadata": {},
     "output_type": "execute_result"
    },
    {
     "data": {
      "image/png": "[encoded data removed]",
      "text/plain": [
       "<Figure size 432x288 with 1 Axes>"
      ]
     },
     "metadata": {
      "needs_background": "light"
     },
     "output_type": "display_data"
    }
   ],
   "source": [
    "plt.plot(x_axis,shopping,color='r',label='Shopping')\n",
    "plt.plot(x_axis,furniture,color='b',label='Furniture')\n",
    "plt.plot(x_axis,electronic,color='g',label='Electronics')\n",
    "plt.plot(x_axis,grocery,color='y',label='Grocery')\n",
    "plt.legend(loc=\"best\")"
   ]
  },
  {
   "cell_type": "code",
   "execution_count": 33,
   "metadata": {},
   "outputs": [
    {
     "data": {
      "text/html": [
       "<div>\n",
       "<style scoped>\n",
       "    .dataframe tbody tr th:only-of-type {\n",
       "        vertical-align: middle;\n",
       "    }\n",
       "\n",
       "    .dataframe tbody tr th {\n",
       "        vertical-align: top;\n",
       "    }\n",
       "\n",
       "    .dataframe thead th {\n",
       "        text-align: right;\n",
       "    }\n",
       "</style>\n",
       "<table border=\"1\" class=\"dataframe\">\n",
       "  <thead>\n",
       "    <tr style=\"text-align: right;\">\n",
       "      <th></th>\n",
       "      <th>shopping_sales</th>\n",
       "      <th>furniture_sales</th>\n",
       "      <th>electronic_sales</th>\n",
       "      <th>grocery_sales</th>\n",
       "    </tr>\n",
       "  </thead>\n",
       "  <tbody>\n",
       "    <tr>\n",
       "      <th>0</th>\n",
       "      <td>167112.0</td>\n",
       "      <td>91198.0</td>\n",
       "      <td>90369.0</td>\n",
       "      <td>401587.0</td>\n",
       "    </tr>\n",
       "    <tr>\n",
       "      <th>1</th>\n",
       "      <td>167593.0</td>\n",
       "      <td>91480.0</td>\n",
       "      <td>88009.0</td>\n",
       "      <td>418561.0</td>\n",
       "    </tr>\n",
       "    <tr>\n",
       "      <th>2</th>\n",
       "      <td>172308.0</td>\n",
       "      <td>94468.0</td>\n",
       "      <td>91188.0</td>\n",
       "      <td>420292.0</td>\n",
       "    </tr>\n",
       "    <tr>\n",
       "      <th>3</th>\n",
       "      <td>178417.0</td>\n",
       "      <td>96619.0</td>\n",
       "      <td>92505.0</td>\n",
       "      <td>428342.0</td>\n",
       "    </tr>\n",
       "    <tr>\n",
       "      <th>4</th>\n",
       "      <td>189393.0</td>\n",
       "      <td>103327.0</td>\n",
       "      <td>99637.0</td>\n",
       "      <td>439949.0</td>\n",
       "    </tr>\n",
       "    <tr>\n",
       "      <th>5</th>\n",
       "      <td>200194.0</td>\n",
       "      <td>109069.0</td>\n",
       "      <td>106128.0</td>\n",
       "      <td>457697.0</td>\n",
       "    </tr>\n",
       "    <tr>\n",
       "      <th>6</th>\n",
       "      <td>212950.0</td>\n",
       "      <td>113119.0</td>\n",
       "      <td>110105.0</td>\n",
       "      <td>472130.0</td>\n",
       "    </tr>\n",
       "    <tr>\n",
       "      <th>7</th>\n",
       "      <td>221587.0</td>\n",
       "      <td>111410.0</td>\n",
       "      <td>110258.0</td>\n",
       "      <td>491835.0</td>\n",
       "    </tr>\n",
       "    <tr>\n",
       "      <th>8</th>\n",
       "      <td>216971.0</td>\n",
       "      <td>98844.0</td>\n",
       "      <td>108827.0</td>\n",
       "      <td>510355.0</td>\n",
       "    </tr>\n",
       "    <tr>\n",
       "      <th>9</th>\n",
       "      <td>204773.0</td>\n",
       "      <td>84876.0</td>\n",
       "      <td>98067.0</td>\n",
       "      <td>510394.0</td>\n",
       "    </tr>\n",
       "    <tr>\n",
       "      <th>10</th>\n",
       "      <td>213060.0</td>\n",
       "      <td>85216.0</td>\n",
       "      <td>99720.0</td>\n",
       "      <td>521106.0</td>\n",
       "    </tr>\n",
       "    <tr>\n",
       "      <th>11</th>\n",
       "      <td>227915.0</td>\n",
       "      <td>87525.0</td>\n",
       "      <td>101942.0</td>\n",
       "      <td>547530.0</td>\n",
       "    </tr>\n",
       "    <tr>\n",
       "      <th>12</th>\n",
       "      <td>238766.0</td>\n",
       "      <td>91438.0</td>\n",
       "      <td>103506.0</td>\n",
       "      <td>562952.0</td>\n",
       "    </tr>\n",
       "    <tr>\n",
       "      <th>13</th>\n",
       "      <td>244786.0</td>\n",
       "      <td>95325.0</td>\n",
       "      <td>104750.0</td>\n",
       "      <td>574968.0</td>\n",
       "    </tr>\n",
       "    <tr>\n",
       "      <th>14</th>\n",
       "      <td>250287.0</td>\n",
       "      <td>99607.0</td>\n",
       "      <td>104923.0</td>\n",
       "      <td>599806.0</td>\n",
       "    </tr>\n",
       "    <tr>\n",
       "      <th>15</th>\n",
       "      <td>255737.0</td>\n",
       "      <td>106407.0</td>\n",
       "      <td>103870.0</td>\n",
       "      <td>613456.0</td>\n",
       "    </tr>\n",
       "  </tbody>\n",
       "</table>\n",
       "</div>"
      ],
      "text/plain": [
       "    shopping_sales  furniture_sales  electronic_sales  grocery_sales\n",
       "0         167112.0          91198.0           90369.0       401587.0\n",
       "1         167593.0          91480.0           88009.0       418561.0\n",
       "2         172308.0          94468.0           91188.0       420292.0\n",
       "3         178417.0          96619.0           92505.0       428342.0\n",
       "4         189393.0         103327.0           99637.0       439949.0\n",
       "5         200194.0         109069.0          106128.0       457697.0\n",
       "6         212950.0         113119.0          110105.0       472130.0\n",
       "7         221587.0         111410.0          110258.0       491835.0\n",
       "8         216971.0          98844.0          108827.0       510355.0\n",
       "9         204773.0          84876.0           98067.0       510394.0\n",
       "10        213060.0          85216.0           99720.0       521106.0\n",
       "11        227915.0          87525.0          101942.0       547530.0\n",
       "12        238766.0          91438.0          103506.0       562952.0\n",
       "13        244786.0          95325.0          104750.0       574968.0\n",
       "14        250287.0          99607.0          104923.0       599806.0\n",
       "15        255737.0         106407.0          103870.0       613456.0"
      ]
     },
     "execution_count": 33,
     "metadata": {},
     "output_type": "execute_result"
    }
   ],
   "source": [
    "# sales_df['grocery_total']=sales_df.shopping_sales + sales_df.furniture_sales + sales_df.electronic_sales + sales_df.grocery_sales\n",
    "sales_df = sales_df[['shopping_sales','furniture_sales','electronic_sales','grocery_sales']]\n",
    "sales_df"
   ]
  },
  {
   "cell_type": "code",
   "execution_count": 50,
   "metadata": {},
   "outputs": [],
   "source": [
    "count = len(sales_df.shopping_sales) - 1\n",
    "\n",
    "shopping_inc = (sales_df['shopping_sales'][count] / sales_df['shopping_sales'][0])*count\n",
    "furniture_inc = (sales_df['furniture_sales'][count] / sales_df['furniture_sales'][0])*count\n",
    "electronic_inc = (sales_df['electronic_sales'][count] / sales_df['electronic_sales'][0])*count\n",
    "grocery_inc = (sales_df['grocery_sales'][count] / sales_df['grocery_sales'][0])*count"
   ]
  },
  {
   "cell_type": "code",
   "execution_count": 51,
   "metadata": {},
   "outputs": [
    {
     "data": {
      "text/plain": [
       "17.501535121384244"
      ]
     },
     "execution_count": 51,
     "metadata": {},
     "output_type": "execute_result"
    }
   ],
   "source": [
    "shopping_inc\n",
    "furniture_inc"
   ]
  },
  {
   "cell_type": "code",
   "execution_count": 52,
   "metadata": {},
   "outputs": [],
   "source": [
    "perc_increase_df = pd.DataFrame({\"shopping\":[shopping_inc],\n",
    "                                 \"furniture\":[furniture_inc],\n",
    "                                 \"electronic\":[electronic_inc],\n",
    "                                 \"grocery\":[grocery_inc]})"
   ]
  },
  {
   "cell_type": "code",
   "execution_count": 53,
   "metadata": {},
   "outputs": [
    {
     "data": {
      "text/html": [
       "<div>\n",
       "<style scoped>\n",
       "    .dataframe tbody tr th:only-of-type {\n",
       "        vertical-align: middle;\n",
       "    }\n",
       "\n",
       "    .dataframe tbody tr th {\n",
       "        vertical-align: top;\n",
       "    }\n",
       "\n",
       "    .dataframe thead th {\n",
       "        text-align: right;\n",
       "    }\n",
       "</style>\n",
       "<table border=\"1\" class=\"dataframe\">\n",
       "  <thead>\n",
       "    <tr style=\"text-align: right;\">\n",
       "      <th></th>\n",
       "      <th>shopping</th>\n",
       "      <th>furniture</th>\n",
       "      <th>electronic</th>\n",
       "      <th>grocery</th>\n",
       "    </tr>\n",
       "  </thead>\n",
       "  <tbody>\n",
       "    <tr>\n",
       "      <th>0</th>\n",
       "      <td>22.954994</td>\n",
       "      <td>17.501535</td>\n",
       "      <td>17.240979</td>\n",
       "      <td>22.91369</td>\n",
       "    </tr>\n",
       "  </tbody>\n",
       "</table>\n",
       "</div>"
      ],
      "text/plain": [
       "    shopping  furniture  electronic   grocery\n",
       "0  22.954994  17.501535   17.240979  22.91369"
      ]
     },
     "execution_count": 53,
     "metadata": {},
     "output_type": "execute_result"
    }
   ],
   "source": [
    "perc_increase_df"
   ]
  },
  {
   "cell_type": "code",
   "execution_count": null,
   "metadata": {},
   "outputs": [],
   "source": []
  }
 ],
 "metadata": {
  "kernelspec": {
   "display_name": "Python 3",
   "language": "python",
   "name": "python3"
  },
  "language_info": {
   "codemirror_mode": {
    "name": "ipython",
    "version": 3
   },
   "file_extension": ".py",
   "mimetype": "text/x-python",
   "name": "python",
   "nbconvert_exporter": "python",
   "pygments_lexer": "ipython3",
   "version": "3.7.0"
  }
 },
 "nbformat": 4,
 "nbformat_minor": 2
}
